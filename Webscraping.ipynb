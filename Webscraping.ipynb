{
 "cells": [
  {
   "cell_type": "code",
   "execution_count": 1,
   "metadata": {},
   "outputs": [],
   "source": [
    "import requests as r\n",
    "from bs4 import BeautifulSoup as bs, SoupStrainer as ss\n",
    "import json"
   ]
  },
  {
   "cell_type": "markdown",
   "metadata": {},
   "source": [
    "## Grabbing all the links to specific movies on IMDB"
   ]
  },
  {
   "cell_type": "code",
   "execution_count": 2,
   "metadata": {},
   "outputs": [
    {
     "name": "stdout",
     "output_type": "stream",
     "text": [
      "['/title/tt5113040/', '/title/tt6565702/', '/title/tt6107548/', '/title/tt6964076/', '/title/tt4353250/', '/title/tt10208198/', '/title/tt7231342/', '/title/tt7947150/', '/title/tt7721800/', '/title/tt10279010/', '/title/tt8228538/', '/title/tt8580240/', '/title/tt3741700/', '/title/tt6139732/', '/title/tt2066051/', '/title/tt7958736/', '/title/tt6146586/', '/title/tt4154796/', '/title/tt5884052/', '/title/tt1489887/', '/title/tt7752126/', '/title/tt1298644/']\n"
     ]
    }
   ],
   "source": [
    "movie_links = []\n",
    "\n",
    "page = r.get(\"https://www.imdb.com/movies-in-theaters/?ref_=nv_tp_inth_1\")\n",
    "\n",
    "soup = bs(page.content, 'html.parser')\n",
    "\n",
    "headers = soup.find_all('h4')\n",
    "\n",
    "for header in headers:\n",
    "    movie_links.append(header.a['href'])\n",
    "\n",
    "    \n",
    "print(movie_links)\n"
   ]
  },
  {
   "cell_type": "markdown",
   "metadata": {},
   "source": [
    "## Going through each link and grabbing necessary info about movie"
   ]
  },
  {
   "cell_type": "code",
   "execution_count": 3,
   "metadata": {
    "scrolled": true
   },
   "outputs": [
    {
     "name": "stdout",
     "output_type": "stream",
     "text": [
      "http://www.imdb.com/title/tt5113040/mediaviewer/rm2328323584?context=default\n",
      "The Secret Life of Pets 2  Continuing the story of Max and his pet friends, following their secret lives after their owners leave them for work or school each day.\n",
      "             86 https://m.media-amazon.com/images/M/MV5BMmYwYTMyMDYtM2U5Ni00YjU5LTg5ODYtNmUwNGMwYTgzZDBjXkEyXkFqcGdeQXVyNjg2NjQwMDQ@._V1_SX1777_CR0,0,1777,952_AL_.jpg\n",
      "http://www.imdb.com/title/tt6565702/mediaviewer/rm1733721600?context=default\n",
      "Dark Phoenix  Jean Grey begins to develop incredible powers that corrupt and turn her into a Dark Phoenix. Now the X-Men will have to decide if the life of a team member is worth more than all the people living in the world.\n",
      "             113 https://m.media-amazon.com/images/M/MV5BOTVmODA5YzMtZmE4My00NzQ1LWFiOTUtMzNhNzZhMzk0YTQ5XkEyXkFqcGdeQXVyNjg2NjQwMDQ@._V1_SX1777_CR0,0,1777,707_AL_.jpg\n",
      "http://www.imdb.com/title/tt6107548/mediaviewer/rm1052926976?context=default\n",
      "Late Night  A late-night talk-show host suspects that she may soon lose her long-running show.\n",
      "             102 https://m.media-amazon.com/images/M/MV5BYWZlM2RmOWMtYjY4Ny00NThlLTk4ZjEtYzY2NmIzOTBiM2EyXkEyXkFqcGdeQXVyNjg2NjQwMDQ@._V1_SY1000_SX1500_AL_.jpg\n",
      "http://www.imdb.com/title/tt6964076/mediaviewer/rm838900225?context=default\n",
      "Pavarotti  A look at the life and work of opera legend Luciano Pavarotti.\n",
      "             114 https://m.media-amazon.com/images/M/MV5BMTgyMjk3MzE1MV5BMl5BanBnXkFtZTgwMzk2OTQ4NzM@._V1_SY1000_CR0,0,674,1000_AL_.jpg\n",
      "http://www.imdb.com/title/tt4353250/mediaviewer/rm3107022848?context=default\n",
      "The Last Black Man in San Francisco  A young man searches for home in the changing city that seems to have left him behind.\n",
      "             120 https://m.media-amazon.com/images/M/MV5BMTg0MjA2MDE5OV5BMl5BanBnXkFtZTgwODc3NjcyNzM@._V1_SY1000_CR0,0,666,1000_AL_.jpg\n",
      "http://www.imdb.com/title/tt10208198/mediaviewer/rm1076795905?context=default\n",
      "The Gangster, the Cop, the Devil  Remake of the South Korean film 'The Gangster, the Cop, the Devil' about a crime boss who teams up with a cop to track down a serial killer.\n",
      "             109 https://m.media-amazon.com/images/M/MV5BNzAxZmM4ZTgtYjZjZC00OGE1LWE3MWQtNWNiNGY2ZDY1ODc1XkEyXkFqcGdeQXVyNTUxNTI3MzY@._V1_SY1000_CR0,0,1500,1000_AL_.jpg\n",
      "http://www.imdb.com/title/tt7231342/mediaviewer/rm1106208512?context=default\n",
      "La chute de l'empire américain  A shy and insecure delivery truck driver accidentally arrives on the scene of a major crime and happens to pick up two bags of cash and hides them in his truck. Though an interrogation of ...\n",
      "              127 https://m.media-amazon.com/images/M/MV5BZjc4N2QzZjQtMmI1OS00ZTlhLWJiNzYtN2RhMDc1ZDkzMmZhXkEyXkFqcGdeQXVyODc0OTEyNDU@._V1_.jpg\n",
      "http://www.imdb.com/title/tt7947150/mediaviewer/rm4090514688?context=default\n",
      "This One's for the Ladies  This documentary explores the sexual and social identity of contemporary black America through intimate, eye opening and often hilarious accounts from women and men who find love and community in the underground world of exotic dancing.\n",
      "             82 https://m.media-amazon.com/images/M/MV5BNDM4ODkzMDc3M15BMl5BanBnXkFtZTgwMjk5Njc5NjM@._V1_SY1000_CR0,0,676,1000_AL_.jpg\n",
      "http://www.imdb.com/title/tt7721800/mediaviewer/rm3328921344?context=default\n",
      "Bharat  At the cusp of India's birth as an Independent nation, a family makes an arduous journey to freedom at a cost. A young boy Bharat, makes a promise to his Father that he will keep his family together no matter what.\n",
      "             150 https://m.media-amazon.com/images/M/MV5BYTc5YTVmZjAtNWIyZS00YTRjLWEzZGYtZTIxOGQzZTc1MzE4XkEyXkFqcGdeQXVyOTAzMTc2MjA@._V1_SY1000_SX750_AL_.jpg\n",
      "http://www.imdb.com/title/tt8228538/mediaviewer/rm3861275904?context=default\n",
      "Papi Chulo  A lonely TV weatherman strikes up an unusual friendship with a middle-aged Latino migrant worker.\n",
      "             98 https://m.media-amazon.com/images/M/MV5BZjRlNWNmMzYtMmQ0MC00MDRiLWFiOTMtZTVkNTY3NjA0MmQxXkEyXkFqcGdeQXVyNzc0MTgzMzU@._V1_SX1777_CR0,0,1777,744_AL_.jpg\n",
      "http://www.imdb.com/title/tt8580240/mediaviewer/rm1903714816?context=default\n",
      "Ghost Fleet  Ghost Fleet follows a small group of activists who risk their lives on remote Indonesian islands to find justice and freedom for the enslaved fishermen who feed the world's insatiable ...\n",
      "              90 https://m.media-amazon.com/images/M/MV5BYzkwMjkxN2EtOTE1Zi00YjMxLTgwMzYtNzdkMDc5ODZmNzg2XkEyXkFqcGdeQXVyNDIzOTgwMTI@._V1_.jpg\n",
      "http://www.imdb.com/title/tt3741700/mediaviewer/rm3778757632?context=default\n",
      "Godzilla: King of the Monsters  The crypto-zoological agency Monarch faces off against a battery of god-sized monsters, including the mighty Godzilla, who collides with Mothra, Rodan, and his ultimate nemesis, the three-headed King Ghidorah.\n",
      "             132 https://m.media-amazon.com/images/M/MV5BZGIyMjkzYmQtNzFlZS00Mjc3LWFjZDgtZTA3MGUxNWNiMTg0XkEyXkFqcGdeQXVyNjg2NjQwMDQ@._V1_SX1777_CR0,0,1777,776_AL_.jpg\n",
      "http://www.imdb.com/title/tt6139732/mediaviewer/rm1649711617?context=default\n",
      "Aladdin  A kind-hearted street urchin and a power-hungry Grand Vizier vie for a magic lamp that has the power to make their deepest wishes come true.\n",
      "             128 https://m.media-amazon.com/images/M/MV5BMzk5OTIyZGUtNTc3Yi00ZTRhLWFlNjItMTdmNWRhN2IxNzc0XkEyXkFqcGdeQXVyNjg2NjQwMDQ@._V1_SY1000_SX1500_AL_.jpg\n",
      "http://www.imdb.com/title/tt2066051/mediaviewer/rm4263339264?context=default\n",
      "Rocketman  A musical fantasy about the fantastical human story of Elton John's breakthrough years.\n",
      "             121 https://m.media-amazon.com/images/M/MV5BMjQ1NDc1NDg5Nl5BMl5BanBnXkFtZTgwNzQ0MDAxNzM@._V1_SX1500_CR0,0,1500,999_AL_.jpg\n",
      "http://www.imdb.com/title/tt7958736/mediaviewer/rm1363122945?context=default\n",
      "Ma  A lonely woman befriends a group of teenagers and decides to let them party at her house. Just when the kids think their luck couldn't get any better, things start happening that make them question the intention of their host.\n",
      "             99 https://m.media-amazon.com/images/M/MV5BMDBmM2Q5YTgtYTg4Yy00NTYxLWIwOTktNzBjOWI1NTBlOGU4XkEyXkFqcGdeQXVyODc0OTEyNDU@._V1_SY1000_CR0,0,694,1000_AL_.jpg\n",
      "http://www.imdb.com/title/tt6146586/mediaviewer/rm176377088?context=default\n",
      "John Wick: Chapter 3 - Parabellum  Super-assassin John Wick is on the run after killing a member of the international assassin's guild, and with a $14 million price tag on his head - he is the target of hit men and women everywhere.\n",
      "             131 https://m.media-amazon.com/images/M/MV5BY2Q1MDFkZGUtYmI2NS00YTMwLWJkZDAtOWMxNTIwYzQ4NDhiXkEyXkFqcGdeQXVyNjg2NjQwMDQ@._V1_SY1000_CR0,0,1536,1000_AL_.jpg\n",
      "http://www.imdb.com/title/tt4154796/mediaviewer/rm1789617920?context=default\n",
      "Avengers: Endgame  After the devastating events of Avengers: Infinity War (2018), the universe is in ruins. With the help of remaining allies, the Avengers assemble once more in order to undo Thanos' actions and restore order to the universe.\n",
      "             181 https://m.media-amazon.com/images/M/MV5BZmRmNjhmOGItNWMzNi00NTMyLTgzZTktY2UxMzQ4YjhhN2YxXkEyXkFqcGdeQXVyNjg2NjQwMDQ@._V1_SX1777_CR0,0,1777,937_AL_.jpg\n",
      "http://www.imdb.com/title/tt5884052/mediaviewer/rm45704448?context=default\n",
      "Pokémon Detective Pikachu  In a world where people collect Pokémon to do battle, a boy comes across an intelligent talking Pikachu who seeks to be a detective.\n",
      "             104 https://m.media-amazon.com/images/M/MV5BMmI4MGU5ZDItNDQ0OS00ODliLTg3ODYtNTgzZmU0YWViYzBmXkEyXkFqcGdeQXVyNjg2NjQwMDQ@._V1_SY739_CR0,0,1776,739_AL_.jpg\n",
      "http://www.imdb.com/title/tt1489887/mediaviewer/rm754738176?context=default\n",
      "Booksmart  On the eve of their high school graduation, two academic superstars and best friends realize they should have worked less and played more. Determined not to fall short of their peers, the girls try to cram four years of fun into one night.\n",
      "             102 https://m.media-amazon.com/images/M/MV5BYjljZTY0MDEtMmE4YS00NDY1LTlmODMtMWUxYzA5MmM3MDZlXkEyXkFqcGdeQXVyMTkxNjUyNQ@@._V1_SY1000_SX675_AL_.jpg\n",
      "http://www.imdb.com/title/tt7752126/mediaviewer/rm313816832?context=default\n",
      "Brightburn  What if a child from another world crash-landed on Earth, but instead of becoming a hero to mankind, he proved to be something far more sinister?\n",
      "             90 https://m.media-amazon.com/images/M/MV5BMTYxNTQwMjMwM15BMl5BanBnXkFtZTgwMjk4NjE5NjM@._V1_.jpg\n"
     ]
    },
    {
     "name": "stdout",
     "output_type": "stream",
     "text": [
      "http://www.imdb.com/title/tt1298644/mediaviewer/rm1499699713?context=default\n",
      "The Hustle  Anne Hathaway and Rebel Wilson star as female scam artists, one low rent and the other high class, who team up to take down the men who have wronged them.\n",
      "             93 https://m.media-amazon.com/images/M/MV5BMTYyNTUwODg4M15BMl5BanBnXkFtZTgwOTY2MDE0NzM@._V1_SX1500_CR0,0,1500,999_AL_.jpg\n"
     ]
    }
   ],
   "source": [
    "JSONArray = []\n",
    "\n",
    "for link in movie_links:\n",
    "    specPage = r.get(\"http://www.imdb.com\" + link)\n",
    "    soup = bs(specPage.content, 'html.parser')\n",
    "    date = soup.find('time')\n",
    "    if date:\n",
    "        date = date.text[25:]\n",
    "        runtime = 0\n",
    "        runtime += int(date[0])*60\n",
    "        if len(date) == 29:\n",
    "            runtime += int(date[3:5])\n",
    "        elif len(date) == 28:\n",
    "            runtime += int(date[3])\n",
    "        \n",
    "        \n",
    "        url = soup.find('div', {'class':'mediastrip'}).find_all('a')\n",
    "        if len(url) > 1 :\n",
    "            url = url[1]['href']\n",
    "            print(\"http://www.imdb.com\" + url)\n",
    "            imagePage = r.get(\"http://www.imdb.com\" + url)\n",
    "            imgSoup = bs(imagePage.content, 'html.parser')\n",
    "            imgURL = imgSoup.find_all('script')[1].text[158:-20]\n",
    "            j = json.loads(imgURL)\n",
    "            url = j[\"galleries\"][link[7:-1]]['allImages'][1]['src']\n",
    "            runtime = str(runtime)\n",
    "            name = soup.find('h1').text[0:-7]\n",
    "            name = str(name)\n",
    "            description = soup.find('div', {'class': 'summary_text'}).text[21:]\n",
    "            description = str(description)\n",
    "            if description[len(description) - 14] != '.' and description[len(description) - 14] != '?':\n",
    "                description = description[0: -38]\n",
    "            print(name, description, runtime, url)\n",
    "            \n",
    "            JSONArray.append({\"name\": name, \"description\": description, \"runtime\": runtime, \"url\": url})\n"
   ]
  },
  {
   "cell_type": "markdown",
   "metadata": {},
   "source": [
    "## Formatting to get clean list of JSON"
   ]
  },
  {
   "cell_type": "code",
   "execution_count": 4,
   "metadata": {},
   "outputs": [],
   "source": [
    "for js in JSONArray:\n",
    "    js[\"name\"] = js[\"name\"].rstrip()\n",
    "    js[\"description\"] = js[\"description\"].rstrip()\n"
   ]
  },
  {
   "cell_type": "code",
   "execution_count": 5,
   "metadata": {},
   "outputs": [
    {
     "name": "stdout",
     "output_type": "stream",
     "text": [
      "[{\"name\": \"The Secret Life of Pets 2\", \"description\": \"Continuing the story of Max and his pet friends, following their secret lives after their owners leave them for work or school each day.\", \"runtime\": \"86\", \"url\": \"https://m.media-amazon.com/images/M/MV5BMmYwYTMyMDYtM2U5Ni00YjU5LTg5ODYtNmUwNGMwYTgzZDBjXkEyXkFqcGdeQXVyNjg2NjQwMDQ@._V1_SX1777_CR0,0,1777,952_AL_.jpg\"}, {\"name\": \"Dark Phoenix\", \"description\": \"Jean Grey begins to develop incredible powers that corrupt and turn her into a Dark Phoenix. Now the X-Men will have to decide if the life of a team member is worth more than all the people living in the world.\", \"runtime\": \"113\", \"url\": \"https://m.media-amazon.com/images/M/MV5BOTVmODA5YzMtZmE4My00NzQ1LWFiOTUtMzNhNzZhMzk0YTQ5XkEyXkFqcGdeQXVyNjg2NjQwMDQ@._V1_SX1777_CR0,0,1777,707_AL_.jpg\"}, {\"name\": \"Late Night\", \"description\": \"A late-night talk-show host suspects that she may soon lose her long-running show.\", \"runtime\": \"102\", \"url\": \"https://m.media-amazon.com/images/M/MV5BYWZlM2RmOWMtYjY4Ny00NThlLTk4ZjEtYzY2NmIzOTBiM2EyXkEyXkFqcGdeQXVyNjg2NjQwMDQ@._V1_SY1000_SX1500_AL_.jpg\"}, {\"name\": \"Pavarotti\", \"description\": \"A look at the life and work of opera legend Luciano Pavarotti.\", \"runtime\": \"114\", \"url\": \"https://m.media-amazon.com/images/M/MV5BMTgyMjk3MzE1MV5BMl5BanBnXkFtZTgwMzk2OTQ4NzM@._V1_SY1000_CR0,0,674,1000_AL_.jpg\"}, {\"name\": \"The Last Black Man in San Francisco\", \"description\": \"A young man searches for home in the changing city that seems to have left him behind.\", \"runtime\": \"120\", \"url\": \"https://m.media-amazon.com/images/M/MV5BMTg0MjA2MDE5OV5BMl5BanBnXkFtZTgwODc3NjcyNzM@._V1_SY1000_CR0,0,666,1000_AL_.jpg\"}, {\"name\": \"The Gangster, the Cop, the Devil\", \"description\": \"Remake of the South Korean film 'The Gangster, the Cop, the Devil' about a crime boss who teams up with a cop to track down a serial killer.\", \"runtime\": \"109\", \"url\": \"https://m.media-amazon.com/images/M/MV5BNzAxZmM4ZTgtYjZjZC00OGE1LWE3MWQtNWNiNGY2ZDY1ODc1XkEyXkFqcGdeQXVyNTUxNTI3MzY@._V1_SY1000_CR0,0,1500,1000_AL_.jpg\"}, {\"name\": \"La chute de l'empire am\\u00e9ricain\", \"description\": \"A shy and insecure delivery truck driver accidentally arrives on the scene of a major crime and happens to pick up two bags of cash and hides them in his truck. Though an interrogation of ...\", \"runtime\": \"127\", \"url\": \"https://m.media-amazon.com/images/M/MV5BZjc4N2QzZjQtMmI1OS00ZTlhLWJiNzYtN2RhMDc1ZDkzMmZhXkEyXkFqcGdeQXVyODc0OTEyNDU@._V1_.jpg\"}, {\"name\": \"This One's for the Ladies\", \"description\": \"This documentary explores the sexual and social identity of contemporary black America through intimate, eye opening and often hilarious accounts from women and men who find love and community in the underground world of exotic dancing.\", \"runtime\": \"82\", \"url\": \"https://m.media-amazon.com/images/M/MV5BNDM4ODkzMDc3M15BMl5BanBnXkFtZTgwMjk5Njc5NjM@._V1_SY1000_CR0,0,676,1000_AL_.jpg\"}, {\"name\": \"Bharat\", \"description\": \"At the cusp of India's birth as an Independent nation, a family makes an arduous journey to freedom at a cost. A young boy Bharat, makes a promise to his Father that he will keep his family together no matter what.\", \"runtime\": \"150\", \"url\": \"https://m.media-amazon.com/images/M/MV5BYTc5YTVmZjAtNWIyZS00YTRjLWEzZGYtZTIxOGQzZTc1MzE4XkEyXkFqcGdeQXVyOTAzMTc2MjA@._V1_SY1000_SX750_AL_.jpg\"}, {\"name\": \"Papi Chulo\", \"description\": \"A lonely TV weatherman strikes up an unusual friendship with a middle-aged Latino migrant worker.\", \"runtime\": \"98\", \"url\": \"https://m.media-amazon.com/images/M/MV5BZjRlNWNmMzYtMmQ0MC00MDRiLWFiOTMtZTVkNTY3NjA0MmQxXkEyXkFqcGdeQXVyNzc0MTgzMzU@._V1_SX1777_CR0,0,1777,744_AL_.jpg\"}, {\"name\": \"Ghost Fleet\", \"description\": \"Ghost Fleet follows a small group of activists who risk their lives on remote Indonesian islands to find justice and freedom for the enslaved fishermen who feed the world's insatiable ...\", \"runtime\": \"90\", \"url\": \"https://m.media-amazon.com/images/M/MV5BYzkwMjkxN2EtOTE1Zi00YjMxLTgwMzYtNzdkMDc5ODZmNzg2XkEyXkFqcGdeQXVyNDIzOTgwMTI@._V1_.jpg\"}, {\"name\": \"Godzilla: King of the Monsters\", \"description\": \"The crypto-zoological agency Monarch faces off against a battery of god-sized monsters, including the mighty Godzilla, who collides with Mothra, Rodan, and his ultimate nemesis, the three-headed King Ghidorah.\", \"runtime\": \"132\", \"url\": \"https://m.media-amazon.com/images/M/MV5BZGIyMjkzYmQtNzFlZS00Mjc3LWFjZDgtZTA3MGUxNWNiMTg0XkEyXkFqcGdeQXVyNjg2NjQwMDQ@._V1_SX1777_CR0,0,1777,776_AL_.jpg\"}, {\"name\": \"Aladdin\", \"description\": \"A kind-hearted street urchin and a power-hungry Grand Vizier vie for a magic lamp that has the power to make their deepest wishes come true.\", \"runtime\": \"128\", \"url\": \"https://m.media-amazon.com/images/M/MV5BMzk5OTIyZGUtNTc3Yi00ZTRhLWFlNjItMTdmNWRhN2IxNzc0XkEyXkFqcGdeQXVyNjg2NjQwMDQ@._V1_SY1000_SX1500_AL_.jpg\"}, {\"name\": \"Rocketman\", \"description\": \"A musical fantasy about the fantastical human story of Elton John's breakthrough years.\", \"runtime\": \"121\", \"url\": \"https://m.media-amazon.com/images/M/MV5BMjQ1NDc1NDg5Nl5BMl5BanBnXkFtZTgwNzQ0MDAxNzM@._V1_SX1500_CR0,0,1500,999_AL_.jpg\"}, {\"name\": \"Ma\", \"description\": \"A lonely woman befriends a group of teenagers and decides to let them party at her house. Just when the kids think their luck couldn't get any better, things start happening that make them question the intention of their host.\", \"runtime\": \"99\", \"url\": \"https://m.media-amazon.com/images/M/MV5BMDBmM2Q5YTgtYTg4Yy00NTYxLWIwOTktNzBjOWI1NTBlOGU4XkEyXkFqcGdeQXVyODc0OTEyNDU@._V1_SY1000_CR0,0,694,1000_AL_.jpg\"}, {\"name\": \"John Wick: Chapter 3 - Parabellum\", \"description\": \"Super-assassin John Wick is on the run after killing a member of the international assassin's guild, and with a $14 million price tag on his head - he is the target of hit men and women everywhere.\", \"runtime\": \"131\", \"url\": \"https://m.media-amazon.com/images/M/MV5BY2Q1MDFkZGUtYmI2NS00YTMwLWJkZDAtOWMxNTIwYzQ4NDhiXkEyXkFqcGdeQXVyNjg2NjQwMDQ@._V1_SY1000_CR0,0,1536,1000_AL_.jpg\"}, {\"name\": \"Avengers: Endgame\", \"description\": \"After the devastating events of Avengers: Infinity War (2018), the universe is in ruins. With the help of remaining allies, the Avengers assemble once more in order to undo Thanos' actions and restore order to the universe.\", \"runtime\": \"181\", \"url\": \"https://m.media-amazon.com/images/M/MV5BZmRmNjhmOGItNWMzNi00NTMyLTgzZTktY2UxMzQ4YjhhN2YxXkEyXkFqcGdeQXVyNjg2NjQwMDQ@._V1_SX1777_CR0,0,1777,937_AL_.jpg\"}, {\"name\": \"Pok\\u00e9mon Detective Pikachu\", \"description\": \"In a world where people collect Pok\\u00e9mon to do battle, a boy comes across an intelligent talking Pikachu who seeks to be a detective.\", \"runtime\": \"104\", \"url\": \"https://m.media-amazon.com/images/M/MV5BMmI4MGU5ZDItNDQ0OS00ODliLTg3ODYtNTgzZmU0YWViYzBmXkEyXkFqcGdeQXVyNjg2NjQwMDQ@._V1_SY739_CR0,0,1776,739_AL_.jpg\"}, {\"name\": \"Booksmart\", \"description\": \"On the eve of their high school graduation, two academic superstars and best friends realize they should have worked less and played more. Determined not to fall short of their peers, the girls try to cram four years of fun into one night.\", \"runtime\": \"102\", \"url\": \"https://m.media-amazon.com/images/M/MV5BYjljZTY0MDEtMmE4YS00NDY1LTlmODMtMWUxYzA5MmM3MDZlXkEyXkFqcGdeQXVyMTkxNjUyNQ@@._V1_SY1000_SX675_AL_.jpg\"}, {\"name\": \"Brightburn\", \"description\": \"What if a child from another world crash-landed on Earth, but instead of becoming a hero to mankind, he proved to be something far more sinister?\", \"runtime\": \"90\", \"url\": \"https://m.media-amazon.com/images/M/MV5BMTYxNTQwMjMwM15BMl5BanBnXkFtZTgwMjk4NjE5NjM@._V1_.jpg\"}, {\"name\": \"The Hustle\", \"description\": \"Anne Hathaway and Rebel Wilson star as female scam artists, one low rent and the other high class, who team up to take down the men who have wronged them.\", \"runtime\": \"93\", \"url\": \"https://m.media-amazon.com/images/M/MV5BMTYyNTUwODg4M15BMl5BanBnXkFtZTgwOTY2MDE0NzM@._V1_SX1500_CR0,0,1500,999_AL_.jpg\"}]\n"
     ]
    }
   ],
   "source": [
    "jArray = json.dumps(JSONArray)\n",
    "\n",
    "print(jArray)\n"
   ]
  },
  {
   "cell_type": "markdown",
   "metadata": {},
   "source": [
    "## We will be copying and pasting the above JSON into our POST method at route \"/movies\" which takes in a JSON array of objects, iterates through and adds into database."
   ]
  }
 ],
 "metadata": {
  "kernelspec": {
   "display_name": "Python 3",
   "language": "python",
   "name": "python3"
  },
  "language_info": {
   "codemirror_mode": {
    "name": "ipython",
    "version": 3
   },
   "file_extension": ".py",
   "mimetype": "text/x-python",
   "name": "python",
   "nbconvert_exporter": "python",
   "pygments_lexer": "ipython3",
   "version": "3.6.5"
  }
 },
 "nbformat": 4,
 "nbformat_minor": 2
}
